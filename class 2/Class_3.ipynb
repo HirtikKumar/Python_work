{
 "cells": [
  {
   "cell_type": "code",
   "execution_count": 1,
   "id": "067c25f6-5190-4456-9432-355822d1300c",
   "metadata": {},
   "outputs": [],
   "source": [
    "firstName = \"Hirtik\"\n",
    "lastName = \"Karwa\"\n",
    "age = 19\n",
    "weight = 50.5\n",
    "is_student = True"
   ]
  },
  {
   "cell_type": "code",
   "execution_count": 35,
   "id": "8e92a467-3f06-4373-bf2a-7f3b2e27255a",
   "metadata": {},
   "outputs": [
    {
     "data": {
      "text/plain": [
       "'My name is Hirtik Karwa'"
      ]
     },
     "execution_count": 35,
     "metadata": {},
     "output_type": "execute_result"
    }
   ],
   "source": [
    "#Method one using + operator\n",
    "\"My name is \" + firstName + \" \" + lastName"
   ]
  },
  {
   "cell_type": "code",
   "execution_count": 41,
   "id": "2d6f23b5-7e28-43ec-96da-9fdf17c084e3",
   "metadata": {},
   "outputs": [
    {
     "data": {
      "text/plain": [
       "'My name is Hirtik Karwa '"
      ]
     },
     "execution_count": 41,
     "metadata": {},
     "output_type": "execute_result"
    }
   ],
   "source": [
    "#Method two\n",
    "f\"My name is {firstName} {lastName} \""
   ]
  },
  {
   "cell_type": "code",
   "execution_count": 39,
   "id": "0985c50c-d855-4358-a9f0-46825f70ed28",
   "metadata": {},
   "outputs": [
    {
     "name": "stdout",
     "output_type": "stream",
     "text": [
      "My name is  Hirtik Karwa\n"
     ]
    }
   ],
   "source": [
    "#Method three\n",
    "print(\"My name is \" , firstName , lastName)"
   ]
  },
  {
   "cell_type": "code",
   "execution_count": 49,
   "id": "8370d4e8-504b-4011-a798-d6c7a332718c",
   "metadata": {},
   "outputs": [
    {
     "data": {
      "text/plain": [
       "'My name is Hirtik Karwa'"
      ]
     },
     "execution_count": 49,
     "metadata": {},
     "output_type": "execute_result"
    }
   ],
   "source": [
    "#Method four\n",
    "\"My name is {0} {1}\".format(firstName,lastName)"
   ]
  },
  {
   "cell_type": "code",
   "execution_count": null,
   "id": "b357d17d-7aed-4555-ba86-65a3a57cd1ed",
   "metadata": {},
   "outputs": [],
   "source": []
  }
 ],
 "metadata": {
  "kernelspec": {
   "display_name": "Python 3 (ipykernel)",
   "language": "python",
   "name": "python3"
  },
  "language_info": {
   "codemirror_mode": {
    "name": "ipython",
    "version": 3
   },
   "file_extension": ".py",
   "mimetype": "text/x-python",
   "name": "python",
   "nbconvert_exporter": "python",
   "pygments_lexer": "ipython3",
   "version": "3.11.7"
  }
 },
 "nbformat": 4,
 "nbformat_minor": 5
}
