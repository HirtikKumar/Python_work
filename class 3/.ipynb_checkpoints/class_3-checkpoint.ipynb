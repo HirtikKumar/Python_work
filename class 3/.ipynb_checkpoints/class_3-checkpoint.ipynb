{
 "cells": [
  {
   "cell_type": "markdown",
   "id": "d61fcf89-f195-42f1-8d2a-b07513f20018",
   "metadata": {},
   "source": [
    "# Conditional Statements"
   ]
  },
  {
   "cell_type": "code",
   "execution_count": 8,
   "id": "767000fe-b9ef-434b-9fae-1ff46ef87989",
   "metadata": {},
   "outputs": [
    {
     "name": "stdout",
     "output_type": "stream",
     "text": [
      "Celebrate\n"
     ]
    }
   ],
   "source": [
    "#Example 1\n",
    "result = \"win\"\n",
    "if result == \"win\" :\n",
    "    print(\"Celebrate\")\n",
    "else : \n",
    "    print(\"Not Celebrate\")"
   ]
  },
  {
   "cell_type": "code",
   "execution_count": 23,
   "id": "ba27475c-2ddf-4036-8d98-43b203a36791",
   "metadata": {},
   "outputs": [
    {
     "name": "stdout",
     "output_type": "stream",
     "text": [
      "Both will celebrate\n"
     ]
    }
   ],
   "source": [
    "#Example 2\n",
    "result = \"tie\"\n",
    "if result == \"win\" :\n",
    "    print(\"Celebrate\")\n",
    "elif result == \"loss\" :\n",
    "    print(\"Not Celebrate\")\n",
    "else : \n",
    "    print(\"Both will celebrate\")"
   ]
  },
  {
   "cell_type": "code",
   "execution_count": 49,
   "id": "40b7fca9-87f2-4c1d-9a25-6ead6aa311bc",
   "metadata": {},
   "outputs": [
    {
     "name": "stdout",
     "output_type": "stream",
     "text": [
      "Car is corolla\n"
     ]
    }
   ],
   "source": [
    "#Example 3\n",
    "vehicle = \"corolla\"\n",
    "if vehicle == \"mehran\" :\n",
    "    print(f\"Car is {vehicle}\")\n",
    "elif vehicle == \"corolla\" :\n",
    "    print(f\"Car is {vehicle}\")\n",
    "elif vehicle == \"civic\" :\n",
    "    print(f\"Car is {vehicle}\")\n",
    "else :\n",
    "    print(f\"Car is {vehicle}\")"
   ]
  },
  {
   "cell_type": "code",
   "execution_count": 61,
   "id": "c505b06b-c732-4270-b3ff-02757a9bc3b5",
   "metadata": {},
   "outputs": [
    {
     "name": "stdout",
     "output_type": "stream",
     "text": [
      "Yep, it's cat.\n",
      "ok\n",
      "animal\n"
     ]
    }
   ],
   "source": [
    "#Example 4\n",
    "species = \"cat\"\n",
    "if species == \"cat\":\n",
    "    status = \"ok\"\n",
    "    kingdom = \"animal\"\n",
    "    print(\"Yep, it's cat.\")\n",
    "    print(status)\n",
    "    print(kingdom)\n"
   ]
  },
  {
   "cell_type": "code",
   "execution_count": 5,
   "id": "253190b6-0361-4a1c-a367-8c61dc479841",
   "metadata": {},
   "outputs": [
    {
     "name": "stdin",
     "output_type": "stream",
     "text": [
      "Enter your marks :  245\n"
     ]
    },
    {
     "data": {
      "text/plain": [
       "'245'"
      ]
     },
     "execution_count": 5,
     "metadata": {},
     "output_type": "execute_result"
    }
   ],
   "source": [
    "#INPUT\n",
    "input(\"Enter your marks : \") #take string input"
   ]
  },
  {
   "cell_type": "code",
   "execution_count": 3,
   "id": "8cc8d89f-a08a-4109-b47d-3281a8ae4ac4",
   "metadata": {},
   "outputs": [
    {
     "name": "stdin",
     "output_type": "stream",
     "text": [
      "Enter your marks :  34\n"
     ]
    },
    {
     "data": {
      "text/plain": [
       "34"
      ]
     },
     "execution_count": 3,
     "metadata": {},
     "output_type": "execute_result"
    }
   ],
   "source": [
    "int(input(\"Enter your marks : \")) #take integer input"
   ]
  },
  {
   "cell_type": "code",
   "execution_count": null,
   "id": "b5b74774-f0f1-436e-869f-584f0df5ce08",
   "metadata": {},
   "outputs": [],
   "source": [
    "#Example 5\n",
    "marks = int(input(\"Enter your marks : \")) \n",
    "if marks >= 90 :\n",
    "    print(\"Grade is A+\")\n",
    "elif  marks >= 80 :\n",
    "    print(\"Grade is A\")\n",
    "elif  marks >= 70 :\n",
    "    print(\"Grade is B\")\n",
    "elif  marks >= 60 :\n",
    "    print(\"Grade is C\")\n",
    "elif  marks >= 50 :\n",
    "    print(\"Grade is D\")\n",
    "else :\n",
    "    print(\"fail\")"
   ]
  },
  {
   "cell_type": "code",
   "execution_count": null,
   "id": "2856cf92-59dc-447a-9f21-05c2c5b610a2",
   "metadata": {},
   "outputs": [],
   "source": []
  }
 ],
 "metadata": {
  "kernelspec": {
   "display_name": "Python 3 (ipykernel)",
   "language": "python",
   "name": "python3"
  },
  "language_info": {
   "codemirror_mode": {
    "name": "ipython",
    "version": 3
   },
   "file_extension": ".py",
   "mimetype": "text/x-python",
   "name": "python",
   "nbconvert_exporter": "python",
   "pygments_lexer": "ipython3",
   "version": "3.11.7"
  }
 },
 "nbformat": 4,
 "nbformat_minor": 5
}
